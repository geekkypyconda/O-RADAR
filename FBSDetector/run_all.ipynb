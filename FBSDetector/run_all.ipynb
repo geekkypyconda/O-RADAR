{
 "cells": [
  {
   "cell_type": "markdown",
   "metadata": {},
   "source": [
    "# FBS Detection\n",
    "\n",
    "This notebook runs all the instructions provided in the README file for detecting Fake Base Stations (FBS) and Multi-Step Attacks (MSAs) from cellular network traces in the User Equipment (UE)."
   ]
  },
  {
   "cell_type": "markdown",
   "metadata": {},
   "source": [
    "## Create and Activate Virtual Environment [Optional]\n",
    "\n",
    "We will create and activate a virtual environment for the project."
   ]
  },
  {
   "cell_type": "code",
   "execution_count": null,
   "metadata": {},
   "outputs": [],
   "source": [
    "!python3 -m venv venv\n",
    "!source venv/bin/activate"
   ]
  },
  {
   "cell_type": "markdown",
   "metadata": {},
   "source": [
    "## Install Dependencies\n",
    "\n",
    "First, we need to install the required dependencies."
   ]
  },
  {
   "cell_type": "code",
   "execution_count": null,
   "metadata": {},
   "outputs": [],
   "source": [
    "!pip install -r requirements.txt"
   ]
  },
  {
   "cell_type": "markdown",
   "metadata": {},
   "source": [
    "## Run Classification Models\n",
    "\n",
    "The `classification-models.py` script trains and evaluates the following models:\n",
    "- Random Forest (rf)\n",
    "- Support Vector Machine (svm)\n",
    "- Decision Tree (dt)\n",
    "- XGBoost (xgb)\n",
    "- K-Nearest Neighbors (knn)\n",
    "- Naive Bayes (nb)\n",
    "- Logistic Regression (lr)\n",
    "- Convolutional Neural Network (cnn)\n",
    "- Feedforward Neural Network (fnn)\n",
    "- Long Short-Term Memory Network (lstm)"
   ]
  },
  {
   "cell_type": "markdown",
   "metadata": {},
   "source": [
    "#### Run Classification on FBS NAS dataset"
   ]
  },
  {
   "cell_type": "code",
   "execution_count": null,
   "metadata": {},
   "outputs": [],
   "source": [
    "!python3 codes/classification-models.py dataset/fbs_nas.csv"
   ]
  },
  {
   "cell_type": "markdown",
   "metadata": {},
   "source": [
    "#### Run Classification on FBS RRC dataset"
   ]
  },
  {
   "cell_type": "code",
   "execution_count": null,
   "metadata": {},
   "outputs": [],
   "source": [
    "!python3 codes/classification-models.py dataset/fbs_rrc.csv"
   ]
  },
  {
   "cell_type": "markdown",
   "metadata": {},
   "source": [
    "#### Run Classification on MSA NAS dataset"
   ]
  },
  {
   "cell_type": "code",
   "execution_count": null,
   "metadata": {},
   "outputs": [],
   "source": [
    "!python3 codes/classification-models.py dataset/msa_nas.csv"
   ]
  },
  {
   "cell_type": "markdown",
   "metadata": {},
   "source": [
    "#### Run Classification on MSA RRC dataset"
   ]
  },
  {
   "cell_type": "code",
   "execution_count": null,
   "metadata": {},
   "outputs": [],
   "source": [
    "!python3 codes/classification-models.py dataset/msa_rrc.csv"
   ]
  },
  {
   "cell_type": "markdown",
   "metadata": {},
   "source": [
    "## Stateful LSTM with Attention\n",
    "\n",
    "The `stateful-lstm-w-attn.py` script implements our stateful LSTM model with attention mechanism and evaluates its performance."
   ]
  },
  {
   "cell_type": "markdown",
   "metadata": {},
   "source": [
    "### FBS NAS Dataset"
   ]
  },
  {
   "cell_type": "code",
   "execution_count": null,
   "metadata": {},
   "outputs": [],
   "source": [
    "!python3 codes/stateful-lstm-w-attn.py dataset/fbs_nas.csv"
   ]
  },
  {
   "cell_type": "markdown",
   "metadata": {},
   "source": [
    "### FBS RRC Dataset"
   ]
  },
  {
   "cell_type": "code",
   "execution_count": null,
   "metadata": {},
   "outputs": [],
   "source": [
    "!python3 codes/stateful-lstm-w-attn.py dataset/fbs_rrc.csv"
   ]
  },
  {
   "cell_type": "markdown",
   "metadata": {},
   "source": [
    "# Graph Models\n",
    "\n",
    "The `graph_models.py` script trains and evaluates the following graph neural network models:\n",
    "- Graph Attention Network (GAT)\n",
    "- Graph Attention Network v2 (GATv2)\n",
    "- Graph Convolutional Network (GCN)\n",
    "- GraphSAGE\n",
    "- Graph Transformer"
   ]
  },
  {
   "cell_type": "markdown",
   "metadata": {},
   "source": [
    "### MSA NAS Dataset"
   ]
  },
  {
   "cell_type": "code",
   "execution_count": null,
   "metadata": {},
   "outputs": [],
   "source": [
    "!python3 codes/graph_models.py dataset/msa_nas.csv"
   ]
  },
  {
   "cell_type": "markdown",
   "metadata": {},
   "source": [
    "### MSA RRC Dataset"
   ]
  },
  {
   "cell_type": "code",
   "execution_count": null,
   "metadata": {},
   "outputs": [],
   "source": [
    "!python3 codes/graph_models.py dataset/msa_rrc.csv"
   ]
  },
  {
   "cell_type": "markdown",
   "metadata": {},
   "source": [
    "## Trace-Level Classification\n",
    "\n",
    "This script performs trace-level classification using following machine learning models:\n",
    "\n",
    "- Logistic Regression\n",
    "- Support Vector Machine\n",
    "- K-Nearest Neighbors\n",
    "- Decision Tree\n",
    "- Random Forest\n",
    "- XGBoost"
   ]
  },
  {
   "cell_type": "code",
   "execution_count": null,
   "metadata": {},
   "outputs": [],
   "source": [
    "!python3 codes/trace-level-classification.py"
   ]
  },
  {
   "cell_type": "markdown",
   "metadata": {},
   "source": [
    "## ML Stats\n",
    "\n",
    "This script generates the following plots:\n",
    "- Accuracy vs Sequence Length for NAS and RRC datasets\n",
    "- Time Consumption vs Number of Packets\n",
    "- Memory Consumption vs Number of Packets\n",
    "- Power Consumption vs Number of Packets\n",
    "\n",
    "The plots are saved in the `outputs/figures` directory."
   ]
  },
  {
   "cell_type": "code",
   "execution_count": null,
   "metadata": {},
   "outputs": [],
   "source": [
    "!python3 codes/ml-stats.py"
   ]
  },
  {
   "cell_type": "markdown",
   "metadata": {},
   "source": [
    "## MSA Performance Breakdown (TP, TN, FP, FN)\n",
    "\n",
    "This script generates a tabular summary of the following metrics for each class:\n",
    "- True Positives (TP)\n",
    "- True Negatives (TN)\n",
    "- False Positives (FP)\n",
    "- False Negatives (FN)\n",
    "\n",
    "The results are printed to the console."
   ]
  },
  {
   "cell_type": "markdown",
   "metadata": {},
   "source": [
    "### MSA NAS Dataset"
   ]
  },
  {
   "cell_type": "code",
   "execution_count": null,
   "metadata": {},
   "outputs": [],
   "source": [
    "!python3 codes/graphsage_metrics.py dataset/msa_nas.csv"
   ]
  },
  {
   "cell_type": "markdown",
   "metadata": {},
   "source": [
    "### MSA RRC Dataset"
   ]
  },
  {
   "cell_type": "code",
   "execution_count": null,
   "metadata": {},
   "outputs": [],
   "source": [
    "!python3 codes/graphsage_metrics.py dataset/msa_rrc.csv"
   ]
  },
  {
   "cell_type": "markdown",
   "metadata": {},
   "source": [
    "## Feature Names\n",
    "\n",
    "This script prints the feature names from the dataset in the outputs/column_names_output.txt file."
   ]
  },
  {
   "cell_type": "code",
   "execution_count": null,
   "metadata": {},
   "outputs": [],
   "source": [
    "!python3 codes/feature-names.py"
   ]
  },
  {
   "cell_type": "markdown",
   "metadata": {},
   "source": [
    "## Cross-Validation\n",
    "\n",
    "This script performs leave-one-class-out cross-validation and generates the following outputs:\n",
    "- Accuracy for each fold\n",
    "- Detailed results for each fold, including true and predicted labels\n",
    "- A pivot table summarizing the true and predicted labels across all folds"
   ]
  },
  {
   "cell_type": "code",
   "execution_count": null,
   "metadata": {},
   "outputs": [],
   "source": [
    "!python3 codes/cross-validation.py dataset/msa_nas.csv"
   ]
  },
  {
   "cell_type": "markdown",
   "metadata": {},
   "source": [
    "## Phoenix Implementation\n",
    "\n",
    "To run our implementation for [PHOENIX's](https://phoenixlte.github.io/) signature-based detection, run the following codes. Download [PHOENIX's](https://phoenixlte.github.io/) signatures and traces from their website and put in the dataset folder."
   ]
  },
  {
   "cell_type": "markdown",
   "metadata": {},
   "source": [
    "### DFA\n",
    "\n",
    "The `dfa.py` script detects anomalies using a Deterministic Finite Automaton (DFA) parsed from a DOT file.\n",
    "\n",
    "To run the `dfa.py` script, use the following command:\n",
    "```bash\n",
    "python3 dfa.py <state_machine.dot> <trace.pcap>\n",
    "```"
   ]
  },
  {
   "cell_type": "code",
   "execution_count": null,
   "metadata": {},
   "outputs": [],
   "source": [
    "!python3 phoenix-implementation/dfa.py dataset/signatures/dfa/NAS/attach_reject/attach_reject_50_40.trace.dot dataset/NAS_PCAP_logs/attach_reject.pcap"
   ]
  },
  {
   "cell_type": "markdown",
   "metadata": {},
   "source": [
    "### Mealy Machine\n",
    "\n",
    "The `mm.py` script processes events using a Mealy Machine parsed from a DOT file.\n",
    "\n",
    "To run the `mm.py` script, use the following command:\n",
    "```bash\n",
    "python phoenix-implementation/mm.py <trace.pcap>\n",
    "```\n",
    "Replace `<trace.pcap>` with the path to your trace file."
   ]
  },
  {
   "cell_type": "code",
   "execution_count": null,
   "metadata": {},
   "outputs": [],
   "source": [
    "!python3 phoenix-implementation/mm.py dataset/NAS_PCAP_logs/attach_reject.pcap"
   ]
  },
  {
   "cell_type": "markdown",
   "metadata": {},
   "source": [
    "### PLTL\n",
    "\n",
    "The `pltl.py` script checks events against Propositional Linear Temporal Logic (PLTL) signatures.\n",
    "\n",
    "To run the `pltl.py` script, use the following command:\n",
    "```bash\n",
    "python phoenix-implementation/pltl.py <trace.pcap>\n",
    "```\n",
    "Replace `<trace.pcap>` with the path to your trace file."
   ]
  },
  {
   "cell_type": "code",
   "execution_count": null,
   "metadata": {},
   "outputs": [],
   "source": [
    "!python3 phoenix-implementation/pltl.py dataset/NAS_PCAP_logs/attach_reject.pcap"
   ]
  },
  {
   "cell_type": "markdown",
   "metadata": {},
   "source": [
    "## Citation\n",
    "\n",
    "If you use this dataset, models, or code modules, please cite the following paper:\n",
    "\n",
    "```\n",
    "@misc{mubasshir2025gottadetectemall,\n",
    "      title={Gotta Detect 'Em All: Fake Base Station and Multi-Step Attack Detection in Cellular Networks}, \n",
    "      author={Kazi Samin Mubasshir and Imtiaz Karim and Elisa Bertino},\n",
    "      year={2025},\n",
    "      eprint={2401.04958},\n",
    "      archivePrefix={arXiv},\n",
    "      primaryClass={cs.CR},\n",
    "      url={https://arxiv.org/abs/2401.04958}, \n",
    "}"
   ]
  },
  {
   "cell_type": "markdown",
   "metadata": {},
   "source": []
  }
 ],
 "metadata": {
  "kernelspec": {
   "display_name": "Python 3",
   "language": "python",
   "name": "python3"
  },
  "language_info": {
   "codemirror_mode": {
    "name": "ipython",
    "version": 3
   },
   "file_extension": ".py",
   "mimetype": "text/x-python",
   "name": "python",
   "nbconvert_exporter": "python",
   "pygments_lexer": "ipython3",
   "version": "3.8.10"
  }
 },
 "nbformat": 4,
 "nbformat_minor": 4
}
